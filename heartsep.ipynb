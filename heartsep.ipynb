{
 "cells": [
  {
   "cell_type": "code",
   "execution_count": 103,
   "id": "5acb7392-f22b-4171-aa56-489cc8c1310e",
   "metadata": {},
   "outputs": [],
   "source": [
    "import pandas as pd\n",
    "import numpy as np\n",
    "import seaborn as sns\n",
    "import matplotlib.pyplot as plt\n",
    "from sklearn.model_selection import train_test_split\n",
    "from sklearn.preprocessing import StandardScaler\n",
    "from sklearn.tree import DecisionTreeClassifier\n",
    "from sklearn.metrics import accuracy_score, confusion_matrix, classification_report"
   ]
  },
  {
   "cell_type": "code",
   "execution_count": 105,
   "id": "cfb7a8e5-141e-48cb-9665-a5e350f49ce2",
   "metadata": {},
   "outputs": [],
   "source": [
    "heart_df = pd.read_csv('heart.csv')"
   ]
  },
  {
   "cell_type": "code",
   "execution_count": 107,
   "id": "5f309b50-b983-4371-9570-ee42a54ba153",
   "metadata": {},
   "outputs": [
    {
     "name": "stdout",
     "output_type": "stream",
     "text": [
      "Heart Disease Dataset Columns:\n",
      "Index(['age', 'sex', 'cp', 'trestbps', 'chol', 'fbs', 'restecg', 'thalach',\n",
      "       'exang', 'oldpeak', 'slope', 'ca', 'thal', 'target'],\n",
      "      dtype='object')\n"
     ]
    }
   ],
   "source": [
    "print(\"Heart Disease Dataset Columns:\") \n",
    "print(heart_df.columns) "
   ]
  },
  {
   "cell_type": "code",
   "execution_count": 109,
   "id": "d12cdde1-6ad3-410b-a925-1b8d2bb7e128",
   "metadata": {},
   "outputs": [
    {
     "name": "stdout",
     "output_type": "stream",
     "text": [
      "Missing values before cleaning:\n",
      "Heart Dataset: 0\n"
     ]
    }
   ],
   "source": [
    "print(\"Missing values before cleaning:\")\n",
    "print(\"Heart Dataset:\", heart_df.isnull().sum().sum())\n"
   ]
  },
  {
   "cell_type": "code",
   "execution_count": 111,
   "id": "343d4c4f-f4e5-4643-912f-8ed412b85c81",
   "metadata": {},
   "outputs": [
    {
     "name": "stdout",
     "output_type": "stream",
     "text": [
      "Missing values after cleaning:\n",
      "Heart Dataset: 0\n"
     ]
    }
   ],
   "source": [
    "print(\"Missing values after cleaning:\")\n",
    "print(\"Heart Dataset:\", heart_df.isnull().sum().sum())"
   ]
  },
  {
   "cell_type": "code",
   "execution_count": 113,
   "id": "78ebaa16-1c7a-4e38-939e-2997d6f4bafc",
   "metadata": {},
   "outputs": [
    {
     "name": "stdout",
     "output_type": "stream",
     "text": [
      "EDA for Heart Disease\n",
      "   age  sex  cp  trestbps  chol  fbs  restecg  thalach  exang  oldpeak  slope  \\\n",
      "0   63    1   3       145   233    1        0      150      0      2.3      0   \n",
      "1   37    1   2       130   250    0        1      187      0      3.5      0   \n",
      "2   41    0   1       130   204    0        0      172      0      1.4      2   \n",
      "3   56    1   1       120   236    0        1      178      0      0.8      2   \n",
      "4   57    0   0       120   354    0        1      163      1      0.6      2   \n",
      "\n",
      "   ca  thal  target  \n",
      "0   0     1       1  \n",
      "1   0     2       1  \n",
      "2   0     2       1  \n",
      "3   0     2       1  \n",
      "4   0     2       1  \n",
      "<class 'pandas.core.frame.DataFrame'>\n",
      "RangeIndex: 303 entries, 0 to 302\n",
      "Data columns (total 14 columns):\n",
      " #   Column    Non-Null Count  Dtype  \n",
      "---  ------    --------------  -----  \n",
      " 0   age       303 non-null    int64  \n",
      " 1   sex       303 non-null    int64  \n",
      " 2   cp        303 non-null    int64  \n",
      " 3   trestbps  303 non-null    int64  \n",
      " 4   chol      303 non-null    int64  \n",
      " 5   fbs       303 non-null    int64  \n",
      " 6   restecg   303 non-null    int64  \n",
      " 7   thalach   303 non-null    int64  \n",
      " 8   exang     303 non-null    int64  \n",
      " 9   oldpeak   303 non-null    float64\n",
      " 10  slope     303 non-null    int64  \n",
      " 11  ca        303 non-null    int64  \n",
      " 12  thal      303 non-null    int64  \n",
      " 13  target    303 non-null    int64  \n",
      "dtypes: float64(1), int64(13)\n",
      "memory usage: 33.3 KB\n",
      "None\n",
      "              age         sex          cp    trestbps        chol         fbs  \\\n",
      "count  303.000000  303.000000  303.000000  303.000000  303.000000  303.000000   \n",
      "mean    54.366337    0.683168    0.966997  131.623762  246.264026    0.148515   \n",
      "std      9.082101    0.466011    1.032052   17.538143   51.830751    0.356198   \n",
      "min     29.000000    0.000000    0.000000   94.000000  126.000000    0.000000   \n",
      "25%     47.500000    0.000000    0.000000  120.000000  211.000000    0.000000   \n",
      "50%     55.000000    1.000000    1.000000  130.000000  240.000000    0.000000   \n",
      "75%     61.000000    1.000000    2.000000  140.000000  274.500000    0.000000   \n",
      "max     77.000000    1.000000    3.000000  200.000000  564.000000    1.000000   \n",
      "\n",
      "          restecg     thalach       exang     oldpeak       slope          ca  \\\n",
      "count  303.000000  303.000000  303.000000  303.000000  303.000000  303.000000   \n",
      "mean     0.528053  149.646865    0.326733    1.039604    1.399340    0.729373   \n",
      "std      0.525860   22.905161    0.469794    1.161075    0.616226    1.022606   \n",
      "min      0.000000   71.000000    0.000000    0.000000    0.000000    0.000000   \n",
      "25%      0.000000  133.500000    0.000000    0.000000    1.000000    0.000000   \n",
      "50%      1.000000  153.000000    0.000000    0.800000    1.000000    0.000000   \n",
      "75%      1.000000  166.000000    1.000000    1.600000    2.000000    1.000000   \n",
      "max      2.000000  202.000000    1.000000    6.200000    2.000000    4.000000   \n",
      "\n",
      "             thal      target  \n",
      "count  303.000000  303.000000  \n",
      "mean     2.313531    0.544554  \n",
      "std      0.612277    0.498835  \n",
      "min      0.000000    0.000000  \n",
      "25%      2.000000    0.000000  \n",
      "50%      2.000000    1.000000  \n",
      "75%      3.000000    1.000000  \n",
      "max      3.000000    1.000000  \n"
     ]
    }
   ],
   "source": [
    "def perform_eda(df, title):\n",
    "    print(f\"EDA for {title}\")\n",
    "    print(df.head())\n",
    "    print(df.info())\n",
    "    print(df.describe())\n",
    "    plt.show()\n",
    "\n",
    "perform_eda(heart_df, \"Heart Disease\")"
   ]
  },
  {
   "cell_type": "code",
   "execution_count": 115,
   "id": "cbf5cbf8-8b50-43ff-9929-1f7c632157a9",
   "metadata": {},
   "outputs": [],
   "source": [
    "def preprocess_data(df, target_column):\n",
    "    X = df.drop(columns=[target_column])\n",
    "    y = df[target_column]\n",
    "    # Handle missing values (if any)\n",
    "    X.fillna(X.mean(), inplace=True)\n",
    "    # Standardize features\n",
    "    scaler = StandardScaler()\n",
    "    X_scaled = scaler.fit_transform(X)\n",
    "    \n",
    "    return train_test_split(X_scaled, y, test_size=0.2, random_state=42)"
   ]
  },
  {
   "cell_type": "code",
   "execution_count": 117,
   "id": "f5c92a26-2c7b-415f-b4b0-211f2c5fc4bc",
   "metadata": {},
   "outputs": [],
   "source": [
    "X_train_heart, X_test_heart, y_train_heart, y_test_heart = preprocess_data(heart_df, 'target')"
   ]
  },
  {
   "cell_type": "code",
   "execution_count": 119,
   "id": "4bd1db34-ef42-4c88-b548-f392bca9cd31",
   "metadata": {},
   "outputs": [],
   "source": [
    "model=DecisionTreeClassifier()"
   ]
  },
  {
   "cell_type": "code",
   "execution_count": 121,
   "id": "bbfa40b9-9a6e-4716-9337-125888cb83a3",
   "metadata": {},
   "outputs": [
    {
     "name": "stdout",
     "output_type": "stream",
     "text": [
      "Accuracy of DecisionTreeClassifier(): 0.819672131147541\n",
      "[[26  3]\n",
      " [ 8 24]]\n",
      "              precision    recall  f1-score   support\n",
      "\n",
      "           0       0.76      0.90      0.83        29\n",
      "           1       0.89      0.75      0.81        32\n",
      "\n",
      "    accuracy                           0.82        61\n",
      "   macro avg       0.83      0.82      0.82        61\n",
      "weighted avg       0.83      0.82      0.82        61\n",
      "\n"
     ]
    }
   ],
   "source": [
    "model.fit(X_train_heart, y_train_heart)\n",
    "y_pred = model.predict(X_test_heart)\n",
    "accuracy = accuracy_score(y_test_heart, y_pred)\n",
    "print(f\"Accuracy of {model}: {accuracy}\")\n",
    "print(confusion_matrix(y_test_heart, y_pred))\n",
    "print(classification_report(y_test_heart, y_pred))"
   ]
  },
  {
   "cell_type": "code",
   "execution_count": 123,
   "id": "c85a1e29-ee79-4e22-9715-cd1596589ed2",
   "metadata": {},
   "outputs": [],
   "source": [
    "def plot_feature_importance(model, X_train, title):\n",
    "    importance = model.feature_importances_\n",
    "    features = pd.DataFrame({'Feature': X_train.columns, 'Importance': importance})\n",
    "    features = features.sort_values(by='Importance', ascending=False)\n",
    "    \n",
    "    plt.figure(figsize=(6,4))\n",
    "    sns.barplot(x='Importance', y='Feature', data=features)\n",
    "    plt.title(f\"Feature Importance for {title}\")\n",
    "    plt.show()"
   ]
  },
  {
   "cell_type": "code",
   "execution_count": 125,
   "id": "292af714-7a09-4af4-830f-fd007e734831",
   "metadata": {},
   "outputs": [
    {
     "data": {
      "image/png": "[encoded data removed]",
      "text/plain": [
       "<Figure size 600x400 with 1 Axes>"
      ]
     },
     "metadata": {},
     "output_type": "display_data"
    }
   ],
   "source": [
    "rf_heart = DecisionTreeClassifier()\n",
    "rf_heart.fit(X_train_heart, y_train_heart)\n",
    "plot_feature_importance(rf_heart, pd.DataFrame(X_train_heart), \"Heart Disease\")"
   ]
  },
  {
   "cell_type": "code",
   "execution_count": 127,
   "id": "ae491d31-619d-4860-a9fc-b423e46df902",
   "metadata": {},
   "outputs": [
    {
     "data": {
      "image/png": "[encoded data removed]",
      "text/plain": [
       "<Figure size 600x500 with 1 Axes>"
      ]
     },
     "metadata": {},
     "output_type": "display_data"
    }
   ],
   "source": [
    "def plot_pie_chart(df, target_column, title): \n",
    "    counts = df[target_column].value_counts() \n",
    "    plt.figure(figsize=(6, 5)) \n",
    "    colors=['green','pink']\n",
    "    explode=(0.02,0)\n",
    "    plt.pie(counts, labels=counts.index, autopct='%1.1f%%', startangle=90,colors=colors,explode=explode) \n",
    "    plt.title(title) \n",
    "    plt.show() \n",
    "# Plotting pie charts \n",
    "plot_pie_chart(heart_df, 'target', 'Heart Disease Dataset') "
   ]
  },
  {
   "cell_type": "code",
   "execution_count": 129,
   "id": "4a51f192-5eb2-491f-91b3-bf0bc7362b50",
   "metadata": {},
   "outputs": [
    {
     "name": "stdout",
     "output_type": "stream",
     "text": [
      "Accuracy of DecisionTreeClassifier(): 0.819672131147541\n",
      "[[25  4]\n",
      " [ 7 25]]\n",
      "              precision    recall  f1-score   support\n",
      "\n",
      "           0       0.78      0.86      0.82        29\n",
      "           1       0.86      0.78      0.82        32\n",
      "\n",
      "    accuracy                           0.82        61\n",
      "   macro avg       0.82      0.82      0.82        61\n",
      "weighted avg       0.82      0.82      0.82        61\n",
      "\n",
      "The person doesnot have heart disease according to DecisionTreeClassifier()\n"
     ]
    }
   ],
   "source": [
    "input_data_heart = (0,120,66,49,175,25.8,0.587,51,76,99,45,0.649,357)\n",
    "\n",
    "# changing the input_data to numpy array\n",
    "input_data_heart_as_numpy_array = np.asarray(input_data_heart)\n",
    "\n",
    "# reshape the array as we are predicting for one instance\n",
    "input_data_heart_reshaped = input_data_heart_as_numpy_array.reshape(1,-1)\n",
    "\n",
    "model=DecisionTreeClassifier()\n",
    "\n",
    "model.fit(X_train_heart, y_train_heart)\n",
    "y_pred = model.predict(X_test_heart)\n",
    "accuracy = accuracy_score(y_test_heart, y_pred)\n",
    "print(f\"Accuracy of {model}: {accuracy}\")\n",
    "print(confusion_matrix(y_test_heart, y_pred))\n",
    "print(classification_report(y_test_heart, y_pred))\n",
    "prediction = model.predict(input_data_heart_reshaped)\n",
    "if (prediction[0] == 0):\n",
    "    print(f'The person doesnot have heart disease according to {model}')\n",
    "else:\n",
    "    print(f'The person is having heart disease according to {model}')\n",
    "           \n",
    "# Example usage with dummy data (replace with actual data)\n",
    "X_train = np.random.rand(100, 8) \n",
    "y_train = np.random.randint(2, size=100) \n",
    "X_test = np.random.rand(20, 8) \n",
    "y_test = np.random.randint(2, size=20) \n"
   ]
  },
  {
   "cell_type": "code",
   "execution_count": 131,
   "id": "49554460-8578-4820-9620-286e32f417dd",
   "metadata": {},
   "outputs": [],
   "source": [
    "import pickle"
   ]
  },
  {
   "cell_type": "code",
   "execution_count": 133,
   "id": "b21f1f80-3940-4ce2-b095-b2d322ae4965",
   "metadata": {},
   "outputs": [],
   "source": [
    "filename = 'heart_disease_model.sav'\n",
    "pickle.dump(model, open(filename, 'wb'))"
   ]
  },
  {
   "cell_type": "code",
   "execution_count": 135,
   "id": "da8e7186-7c57-45d0-9d19-c98d2c97b069",
   "metadata": {},
   "outputs": [],
   "source": [
    "# loading the saved model\n",
    "loaded_model = pickle.load(open('heart_disease_model.sav', 'rb'))"
   ]
  },
  {
   "cell_type": "code",
   "execution_count": 137,
   "id": "ebc330f7-cba6-4770-b08e-c790c5c1a2a3",
   "metadata": {},
   "outputs": [
    {
     "name": "stdout",
     "output_type": "stream",
     "text": [
      "age\n",
      "sex\n",
      "cp\n",
      "trestbps\n",
      "chol\n",
      "fbs\n",
      "restecg\n",
      "thalach\n",
      "exang\n",
      "oldpeak\n",
      "slope\n",
      "ca\n",
      "thal\n",
      "target\n"
     ]
    }
   ],
   "source": [
    "for column in heart_df.columns:\n",
    "  print(column)"
   ]
  },
  {
   "cell_type": "code",
   "execution_count": null,
   "id": "ef15550d-9bba-49be-b60f-8b50ea605515",
   "metadata": {},
   "outputs": [],
   "source": []
  }
 ],
 "metadata": {
  "kernelspec": {
   "display_name": "Python [conda env:base] *",
   "language": "python",
   "name": "conda-base-py"
  },
  "language_info": {
   "codemirror_mode": {
    "name": "ipython",
    "version": 3
   },
   "file_extension": ".py",
   "mimetype": "text/x-python",
   "name": "python",
   "nbconvert_exporter": "python",
   "pygments_lexer": "ipython3",
   "version": "3.12.3"
  }
 },
 "nbformat": 4,
 "nbformat_minor": 5
}
