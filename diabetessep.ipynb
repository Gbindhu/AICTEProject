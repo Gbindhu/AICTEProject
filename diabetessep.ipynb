{
 "cells": [
  {
   "cell_type": "code",
   "execution_count": 124,
   "id": "620bb46e-a607-4c82-8ebd-18c9564d01b3",
   "metadata": {},
   "outputs": [],
   "source": [
    "import pandas as pd\n",
    "import numpy as np\n",
    "import seaborn as sns\n",
    "import matplotlib.pyplot as plt\n",
    "from sklearn.model_selection import train_test_split\n",
    "from sklearn.preprocessing import StandardScaler\n",
    "from sklearn.linear_model import LogisticRegression\n",
    "from sklearn.metrics import accuracy_score, confusion_matrix, classification_report"
   ]
  },
  {
   "cell_type": "code",
   "execution_count": 126,
   "id": "e9e37572-ad76-4b1d-850e-8cddef49943a",
   "metadata": {},
   "outputs": [],
   "source": [
    "diabetes_df = pd.read_csv('diabetes.csv')"
   ]
  },
  {
   "cell_type": "code",
   "execution_count": 128,
   "id": "f1e9f554-e37d-4430-8719-2aae8eef6c93",
   "metadata": {},
   "outputs": [
    {
     "name": "stdout",
     "output_type": "stream",
     "text": [
      "\n",
      "Diabetes Dataset Columns:\n",
      "Index(['Pregnancies', 'Glucose', 'BloodPressure', 'SkinThickness', 'Insulin',\n",
      "       'BMI', 'DiabetesPedigreeFunction', 'Age', 'Outcome'],\n",
      "      dtype='object')\n"
     ]
    }
   ],
   "source": [
    "print(\"\\nDiabetes Dataset Columns:\") \n",
    "print(diabetes_df.columns) "
   ]
  },
  {
   "cell_type": "code",
   "execution_count": 130,
   "id": "0b05a034-0e51-473d-8064-3e47b95ae433",
   "metadata": {},
   "outputs": [
    {
     "name": "stdout",
     "output_type": "stream",
     "text": [
      "Missing values before cleaning:\n",
      "Diabetes Dataset: 0\n"
     ]
    }
   ],
   "source": [
    "print(\"Missing values before cleaning:\")\n",
    "print(\"Diabetes Dataset:\", diabetes_df.isnull().sum().sum())"
   ]
  },
  {
   "cell_type": "code",
   "execution_count": 132,
   "id": "70aba3dc-fe2a-421a-84aa-5ab124b2ffc2",
   "metadata": {},
   "outputs": [
    {
     "name": "stdout",
     "output_type": "stream",
     "text": [
      "Missing values after cleaning:\n",
      "Heart Dataset: 0\n"
     ]
    }
   ],
   "source": [
    "print(\"Missing values after cleaning:\")\n",
    "print(\"Heart Dataset:\", diabetes_df.isnull().sum().sum())"
   ]
  },
  {
   "cell_type": "code",
   "execution_count": 134,
   "id": "2d2f0356-c071-4aeb-9f94-de5c991d70f3",
   "metadata": {},
   "outputs": [
    {
     "name": "stdout",
     "output_type": "stream",
     "text": [
      "EDA for Diabetes\n",
      "   Pregnancies  Glucose  BloodPressure  SkinThickness  Insulin   BMI  \\\n",
      "0            6      148             72             35        0  33.6   \n",
      "1            1       85             66             29        0  26.6   \n",
      "2            8      183             64              0        0  23.3   \n",
      "3            1       89             66             23       94  28.1   \n",
      "4            0      137             40             35      168  43.1   \n",
      "\n",
      "   DiabetesPedigreeFunction  Age  Outcome  \n",
      "0                     0.627   50        1  \n",
      "1                     0.351   31        0  \n",
      "2                     0.672   32        1  \n",
      "3                     0.167   21        0  \n",
      "4                     2.288   33        1  \n",
      "<class 'pandas.core.frame.DataFrame'>\n",
      "RangeIndex: 768 entries, 0 to 767\n",
      "Data columns (total 9 columns):\n",
      " #   Column                    Non-Null Count  Dtype  \n",
      "---  ------                    --------------  -----  \n",
      " 0   Pregnancies               768 non-null    int64  \n",
      " 1   Glucose                   768 non-null    int64  \n",
      " 2   BloodPressure             768 non-null    int64  \n",
      " 3   SkinThickness             768 non-null    int64  \n",
      " 4   Insulin                   768 non-null    int64  \n",
      " 5   BMI                       768 non-null    float64\n",
      " 6   DiabetesPedigreeFunction  768 non-null    float64\n",
      " 7   Age                       768 non-null    int64  \n",
      " 8   Outcome                   768 non-null    int64  \n",
      "dtypes: float64(2), int64(7)\n",
      "memory usage: 54.1 KB\n",
      "None\n",
      "       Pregnancies     Glucose  BloodPressure  SkinThickness     Insulin  \\\n",
      "count   768.000000  768.000000     768.000000     768.000000  768.000000   \n",
      "mean      3.845052  120.894531      69.105469      20.536458   79.799479   \n",
      "std       3.369578   31.972618      19.355807      15.952218  115.244002   \n",
      "min       0.000000    0.000000       0.000000       0.000000    0.000000   \n",
      "25%       1.000000   99.000000      62.000000       0.000000    0.000000   \n",
      "50%       3.000000  117.000000      72.000000      23.000000   30.500000   \n",
      "75%       6.000000  140.250000      80.000000      32.000000  127.250000   \n",
      "max      17.000000  199.000000     122.000000      99.000000  846.000000   \n",
      "\n",
      "              BMI  DiabetesPedigreeFunction         Age     Outcome  \n",
      "count  768.000000                768.000000  768.000000  768.000000  \n",
      "mean    31.992578                  0.471876   33.240885    0.348958  \n",
      "std      7.884160                  0.331329   11.760232    0.476951  \n",
      "min      0.000000                  0.078000   21.000000    0.000000  \n",
      "25%     27.300000                  0.243750   24.000000    0.000000  \n",
      "50%     32.000000                  0.372500   29.000000    0.000000  \n",
      "75%     36.600000                  0.626250   41.000000    1.000000  \n",
      "max     67.100000                  2.420000   81.000000    1.000000  \n"
     ]
    }
   ],
   "source": [
    "def perform_eda(df, title):\n",
    "    print(f\"EDA for {title}\")\n",
    "    print(df.head())\n",
    "    print(df.info())\n",
    "    print(df.describe())\n",
    "    plt.show()\n",
    "\n",
    "perform_eda(diabetes_df, \"Diabetes\")"
   ]
  },
  {
   "cell_type": "code",
   "execution_count": 136,
   "id": "4370fc03-9946-4239-a476-8ce69838c872",
   "metadata": {},
   "outputs": [],
   "source": [
    "def preprocess_data(df, target_column):\n",
    "    X = df.drop(columns=[target_column])\n",
    "    y = df[target_column]\n",
    "    # Handle missing values (if any)\n",
    "    X.fillna(X.mean(), inplace=True)\n",
    "    # Standardize features\n",
    "    scaler = StandardScaler()\n",
    "    X_scaled = scaler.fit_transform(X)\n",
    "    \n",
    "    return train_test_split(X_scaled, y, test_size=0.2, random_state=42)"
   ]
  },
  {
   "cell_type": "code",
   "execution_count": 138,
   "id": "9e0474b4-aa1d-474f-bf33-752b7bcdcf37",
   "metadata": {},
   "outputs": [],
   "source": [
    "X_train_diabetes, X_test_diabetes, y_train_diabetes, y_test_diabetes = preprocess_data(diabetes_df, 'Outcome')"
   ]
  },
  {
   "cell_type": "code",
   "execution_count": 140,
   "id": "e4405b3f-1a41-4faa-a78d-8ca1864f0662",
   "metadata": {},
   "outputs": [],
   "source": [
    "model=LogisticRegression()"
   ]
  },
  {
   "cell_type": "code",
   "execution_count": 142,
   "id": "139f3fb3-9ee5-4ca0-a6a9-6eb557dc37f6",
   "metadata": {},
   "outputs": [
    {
     "name": "stdout",
     "output_type": "stream",
     "text": [
      "Accuracy of LogisticRegression(): 0.7532467532467533\n",
      "[[79 20]\n",
      " [18 37]]\n",
      "              precision    recall  f1-score   support\n",
      "\n",
      "           0       0.81      0.80      0.81        99\n",
      "           1       0.65      0.67      0.66        55\n",
      "\n",
      "    accuracy                           0.75       154\n",
      "   macro avg       0.73      0.74      0.73       154\n",
      "weighted avg       0.76      0.75      0.75       154\n",
      "\n"
     ]
    }
   ],
   "source": [
    "model.fit(X_train_heart, y_train_heart)\n",
    "y_pred = model.predict(X_test_heart)\n",
    "accuracy = accuracy_score(y_test_heart, y_pred)\n",
    "print(f\"Accuracy of {model}: {accuracy}\")\n",
    "print(confusion_matrix(y_test_heart, y_pred))\n",
    "print(classification_report(y_test_heart, y_pred))"
   ]
  },
  {
   "cell_type": "code",
   "execution_count": 144,
   "id": "779406c9-6cfb-4dd4-8078-53ec7d6a060e",
   "metadata": {},
   "outputs": [],
   "source": [
    "def plot_feature_importance(model, X_train, title):\n",
    "    importance = model.coef_[0]\n",
    "    features = pd.DataFrame({'Feature': X_train.columns, 'Importance': importance})\n",
    "    features = features.sort_values(by='Importance', ascending=False)\n",
    "    plt.figure(figsize=(6,4))\n",
    "    sns.barplot(x='Importance', y='Feature', data=features)\n",
    "    plt.title(f\"Feature Importance for {title}\")\n",
    "    plt.show()"
   ]
  },
  {
   "cell_type": "code",
   "execution_count": 146,
   "id": "5af70f6a-0ee9-4785-8040-edab429717a4",
   "metadata": {},
   "outputs": [
    {
     "data": {
      "image/png": "[encoded data removed]",
      "text/plain": [
       "<Figure size 600x400 with 1 Axes>"
      ]
     },
     "metadata": {},
     "output_type": "display_data"
    }
   ],
   "source": [
    "rf_diabetes = LogisticRegression()\n",
    "rf_diabetes.fit(X_train_diabetes, y_train_diabetes)\n",
    "plot_feature_importance(rf_diabetes, pd.DataFrame(X_train_diabetes), \"Diabetes\")"
   ]
  },
  {
   "cell_type": "code",
   "execution_count": 148,
   "id": "8c630794-f1c9-4abd-8621-252ee3d10a2f",
   "metadata": {},
   "outputs": [
    {
     "data": {
      "image/png": "[encoded data removed]",
      "text/plain": [
       "<Figure size 600x500 with 1 Axes>"
      ]
     },
     "metadata": {},
     "output_type": "display_data"
    }
   ],
   "source": [
    "def plot_pie_chart(df, target_column, title): \n",
    "    counts = df[target_column].value_counts() \n",
    "    plt.figure(figsize=(6, 5)) \n",
    "    colors=['yellow','orange']\n",
    "    explode=(0.02,0)\n",
    "    plt.pie(counts, labels=counts.index, autopct='%1.1f%%', startangle=90,colors=colors,explode=explode) \n",
    "    plt.title(title) \n",
    "    plt.show() \n",
    "# Plotting pie charts \n",
    "plot_pie_chart(diabetes_df, 'Outcome', 'Diabetes Disease Dataset') "
   ]
  },
  {
   "cell_type": "code",
   "execution_count": 150,
   "id": "e56e6aa7-d621-4470-ba90-169e85460b99",
   "metadata": {},
   "outputs": [
    {
     "name": "stdout",
     "output_type": "stream",
     "text": [
      "Accuracy of LogisticRegression(): 0.7532467532467533\n",
      "[[79 20]\n",
      " [18 37]]\n",
      "              precision    recall  f1-score   support\n",
      "\n",
      "           0       0.81      0.80      0.81        99\n",
      "           1       0.65      0.67      0.66        55\n",
      "\n",
      "    accuracy                           0.75       154\n",
      "   macro avg       0.73      0.74      0.73       154\n",
      "weighted avg       0.76      0.75      0.75       154\n",
      "\n",
      "The person is having diabetes disease according to LogisticRegression()\n"
     ]
    }
   ],
   "source": [
    "input_data_diabetes = (0,120,66,49,175,25.8,0.587,51)\n",
    "\n",
    "# changing the input_data to numpy array\n",
    "input_data_diabetes_as_numpy_array = np.asarray(input_data_diabetes)\n",
    "\n",
    "# reshape the array as we are predicting for one instance\n",
    "input_data_diabetes_reshaped = input_data_diabetes_as_numpy_array.reshape(1,-1)\n",
    "\n",
    "model=LogisticRegression()\n",
    "\n",
    "model.fit(X_train_diabetes, y_train_diabetes)\n",
    "y_pred = model.predict(X_test_diabetes)\n",
    "accuracy = accuracy_score(y_test_diabetes, y_pred)\n",
    "print(f\"Accuracy of {model}: {accuracy}\")\n",
    "print(confusion_matrix(y_test_diabetes, y_pred))\n",
    "print(classification_report(y_test_diabetes, y_pred))\n",
    "prediction = model.predict(input_data_diabetes_reshaped)\n",
    "if (prediction[0] == 0):\n",
    "    print(f'The person doesnot have diabetes disease according to {model}')\n",
    "else:\n",
    "    print(f'The person is having diabetes disease according to {model}')\n",
    "           \n",
    "# Example usage with dummy data (replace with actual data)\n",
    "X_train = np.random.rand(100, 8) \n",
    "y_train = np.random.randint(2, size=100) \n",
    "X_test = np.random.rand(20, 8) \n",
    "y_test = np.random.randint(2, size=20) \n"
   ]
  },
  {
   "cell_type": "code",
   "execution_count": 152,
   "id": "037dbc0a-05fc-48de-9aa9-289bb30c9d84",
   "metadata": {},
   "outputs": [],
   "source": [
    "import pickle"
   ]
  },
  {
   "cell_type": "code",
   "execution_count": 154,
   "id": "78f78a32-2833-430d-812e-7e8953a70c36",
   "metadata": {},
   "outputs": [],
   "source": [
    "filename = 'diabetes_disease_model.sav'\n",
    "pickle.dump(model, open(filename, 'wb'))"
   ]
  },
  {
   "cell_type": "code",
   "execution_count": 156,
   "id": "d1c6941f-d21e-4508-b733-fa9a7b26ebb4",
   "metadata": {},
   "outputs": [],
   "source": [
    "# loading the saved model\n",
    "loaded_model = pickle.load(open('diabetes_disease_model.sav', 'rb'))"
   ]
  },
  {
   "cell_type": "code",
   "execution_count": 158,
   "id": "666bb822-c791-4299-8013-710020b8b81d",
   "metadata": {},
   "outputs": [
    {
     "name": "stdout",
     "output_type": "stream",
     "text": [
      "Pregnancies\n",
      "Glucose\n",
      "BloodPressure\n",
      "SkinThickness\n",
      "Insulin\n",
      "BMI\n",
      "DiabetesPedigreeFunction\n",
      "Age\n",
      "Outcome\n"
     ]
    }
   ],
   "source": [
    "for column in diabetes_df.columns:\n",
    "  print(column)"
   ]
  },
  {
   "cell_type": "code",
   "execution_count": null,
   "id": "e60b7ca9-ff32-4bba-862e-8a8b4e386386",
   "metadata": {},
   "outputs": [],
   "source": []
  }
 ],
 "metadata": {
  "kernelspec": {
   "display_name": "Python [conda env:base] *",
   "language": "python",
   "name": "conda-base-py"
  },
  "language_info": {
   "codemirror_mode": {
    "name": "ipython",
    "version": 3
   },
   "file_extension": ".py",
   "mimetype": "text/x-python",
   "name": "python",
   "nbconvert_exporter": "python",
   "pygments_lexer": "ipython3",
   "version": "3.12.3"
  }
 },
 "nbformat": 4,
 "nbformat_minor": 5
}
