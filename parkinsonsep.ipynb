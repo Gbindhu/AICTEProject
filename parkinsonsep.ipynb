{
 "cells": [
  {
   "cell_type": "code",
   "execution_count": 93,
   "id": "7a3d7f12-dee1-41bf-9f97-c1069f2b99c3",
   "metadata": {},
   "outputs": [],
   "source": [
    "import pandas as pd\n",
    "import numpy as np\n",
    "import seaborn as sns\n",
    "import matplotlib.pyplot as plt\n",
    "from sklearn.model_selection import train_test_split\n",
    "from sklearn.preprocessing import StandardScaler\n",
    "from sklearn.ensemble import RandomForestClassifier\n",
    "from sklearn.metrics import accuracy_score, confusion_matrix, classification_report"
   ]
  },
  {
   "cell_type": "code",
   "execution_count": 95,
   "id": "07866875-adb8-40ff-9a59-0acb6416b073",
   "metadata": {},
   "outputs": [],
   "source": [
    "parkinsons_df = pd.read_csv('parkinsons.csv')"
   ]
  },
  {
   "cell_type": "code",
   "execution_count": 97,
   "id": "d88feb1f-cad1-46ab-8239-de23be33061d",
   "metadata": {},
   "outputs": [
    {
     "name": "stdout",
     "output_type": "stream",
     "text": [
      "\n",
      "Parkinson's Disease Dataset Columns:\n",
      "Index(['name', 'MDVP:Fo(Hz)', 'MDVP:Fhi(Hz)', 'MDVP:Flo(Hz)', 'MDVP:Jitter(%)',\n",
      "       'MDVP:Jitter(Abs)', 'MDVP:RAP', 'MDVP:PPQ', 'Jitter:DDP',\n",
      "       'MDVP:Shimmer', 'MDVP:Shimmer(dB)', 'Shimmer:APQ3', 'Shimmer:APQ5',\n",
      "       'MDVP:APQ', 'Shimmer:DDA', 'NHR', 'HNR', 'status', 'RPDE', 'DFA',\n",
      "       'spread1', 'spread2', 'D2', 'PPE'],\n",
      "      dtype='object')\n"
     ]
    }
   ],
   "source": [
    "print(\"\\nParkinson's Disease Dataset Columns:\") \n",
    "print(parkinsons_df.columns)"
   ]
  },
  {
   "cell_type": "code",
   "execution_count": 99,
   "id": "680cfb0d-7c90-41bc-86c8-4ba68dff11b3",
   "metadata": {},
   "outputs": [
    {
     "name": "stdout",
     "output_type": "stream",
     "text": [
      "Missing values before cleaning:\n",
      "Parkinsons Dataset: 0\n"
     ]
    }
   ],
   "source": [
    "print(\"Missing values before cleaning:\")\n",
    "print(\"Parkinsons Dataset:\", parkinsons_df.isnull().sum().sum())"
   ]
  },
  {
   "cell_type": "code",
   "execution_count": 101,
   "id": "96e9a23d-449d-43be-8877-b7bdfcf0f475",
   "metadata": {},
   "outputs": [
    {
     "name": "stdout",
     "output_type": "stream",
     "text": [
      "Missing values after cleaning:\n",
      "Parkinsons Dataset: 0\n"
     ]
    }
   ],
   "source": [
    "print(\"Missing values after cleaning:\")\n",
    "print(\"Parkinsons Dataset:\", parkinsons_df.isnull().sum().sum())"
   ]
  },
  {
   "cell_type": "code",
   "execution_count": 103,
   "id": "5c51c729-c6c3-44f3-9319-4ba0c52cee13",
   "metadata": {},
   "outputs": [
    {
     "name": "stdout",
     "output_type": "stream",
     "text": [
      "EDA for Parkinson's Disease\n",
      "             name  MDVP:Fo(Hz)  MDVP:Fhi(Hz)  MDVP:Flo(Hz)  MDVP:Jitter(%)  \\\n",
      "0  phon_R01_S01_1      119.992       157.302        74.997         0.00784   \n",
      "1  phon_R01_S01_2      122.400       148.650       113.819         0.00968   \n",
      "2  phon_R01_S01_3      116.682       131.111       111.555         0.01050   \n",
      "3  phon_R01_S01_4      116.676       137.871       111.366         0.00997   \n",
      "4  phon_R01_S01_5      116.014       141.781       110.655         0.01284   \n",
      "\n",
      "   MDVP:Jitter(Abs)  MDVP:RAP  MDVP:PPQ  Jitter:DDP  MDVP:Shimmer  ...  \\\n",
      "0           0.00007   0.00370   0.00554     0.01109       0.04374  ...   \n",
      "1           0.00008   0.00465   0.00696     0.01394       0.06134  ...   \n",
      "2           0.00009   0.00544   0.00781     0.01633       0.05233  ...   \n",
      "3           0.00009   0.00502   0.00698     0.01505       0.05492  ...   \n",
      "4           0.00011   0.00655   0.00908     0.01966       0.06425  ...   \n",
      "\n",
      "   Shimmer:DDA      NHR     HNR  status      RPDE       DFA   spread1  \\\n",
      "0      0.06545  0.02211  21.033       1  0.414783  0.815285 -4.813031   \n",
      "1      0.09403  0.01929  19.085       1  0.458359  0.819521 -4.075192   \n",
      "2      0.08270  0.01309  20.651       1  0.429895  0.825288 -4.443179   \n",
      "3      0.08771  0.01353  20.644       1  0.434969  0.819235 -4.117501   \n",
      "4      0.10470  0.01767  19.649       1  0.417356  0.823484 -3.747787   \n",
      "\n",
      "    spread2        D2       PPE  \n",
      "0  0.266482  2.301442  0.284654  \n",
      "1  0.335590  2.486855  0.368674  \n",
      "2  0.311173  2.342259  0.332634  \n",
      "3  0.334147  2.405554  0.368975  \n",
      "4  0.234513  2.332180  0.410335  \n",
      "\n",
      "[5 rows x 24 columns]\n",
      "<class 'pandas.core.frame.DataFrame'>\n",
      "RangeIndex: 195 entries, 0 to 194\n",
      "Data columns (total 24 columns):\n",
      " #   Column            Non-Null Count  Dtype  \n",
      "---  ------            --------------  -----  \n",
      " 0   name              195 non-null    object \n",
      " 1   MDVP:Fo(Hz)       195 non-null    float64\n",
      " 2   MDVP:Fhi(Hz)      195 non-null    float64\n",
      " 3   MDVP:Flo(Hz)      195 non-null    float64\n",
      " 4   MDVP:Jitter(%)    195 non-null    float64\n",
      " 5   MDVP:Jitter(Abs)  195 non-null    float64\n",
      " 6   MDVP:RAP          195 non-null    float64\n",
      " 7   MDVP:PPQ          195 non-null    float64\n",
      " 8   Jitter:DDP        195 non-null    float64\n",
      " 9   MDVP:Shimmer      195 non-null    float64\n",
      " 10  MDVP:Shimmer(dB)  195 non-null    float64\n",
      " 11  Shimmer:APQ3      195 non-null    float64\n",
      " 12  Shimmer:APQ5      195 non-null    float64\n",
      " 13  MDVP:APQ          195 non-null    float64\n",
      " 14  Shimmer:DDA       195 non-null    float64\n",
      " 15  NHR               195 non-null    float64\n",
      " 16  HNR               195 non-null    float64\n",
      " 17  status            195 non-null    int64  \n",
      " 18  RPDE              195 non-null    float64\n",
      " 19  DFA               195 non-null    float64\n",
      " 20  spread1           195 non-null    float64\n",
      " 21  spread2           195 non-null    float64\n",
      " 22  D2                195 non-null    float64\n",
      " 23  PPE               195 non-null    float64\n",
      "dtypes: float64(22), int64(1), object(1)\n",
      "memory usage: 36.7+ KB\n",
      "None\n",
      "       MDVP:Fo(Hz)  MDVP:Fhi(Hz)  MDVP:Flo(Hz)  MDVP:Jitter(%)  \\\n",
      "count   195.000000    195.000000    195.000000      195.000000   \n",
      "mean    154.228641    197.104918    116.324631        0.006220   \n",
      "std      41.390065     91.491548     43.521413        0.004848   \n",
      "min      88.333000    102.145000     65.476000        0.001680   \n",
      "25%     117.572000    134.862500     84.291000        0.003460   \n",
      "50%     148.790000    175.829000    104.315000        0.004940   \n",
      "75%     182.769000    224.205500    140.018500        0.007365   \n",
      "max     260.105000    592.030000    239.170000        0.033160   \n",
      "\n",
      "       MDVP:Jitter(Abs)    MDVP:RAP    MDVP:PPQ  Jitter:DDP  MDVP:Shimmer  \\\n",
      "count        195.000000  195.000000  195.000000  195.000000    195.000000   \n",
      "mean           0.000044    0.003306    0.003446    0.009920      0.029709   \n",
      "std            0.000035    0.002968    0.002759    0.008903      0.018857   \n",
      "min            0.000007    0.000680    0.000920    0.002040      0.009540   \n",
      "25%            0.000020    0.001660    0.001860    0.004985      0.016505   \n",
      "50%            0.000030    0.002500    0.002690    0.007490      0.022970   \n",
      "75%            0.000060    0.003835    0.003955    0.011505      0.037885   \n",
      "max            0.000260    0.021440    0.019580    0.064330      0.119080   \n",
      "\n",
      "       MDVP:Shimmer(dB)  ...  Shimmer:DDA         NHR         HNR      status  \\\n",
      "count        195.000000  ...   195.000000  195.000000  195.000000  195.000000   \n",
      "mean           0.282251  ...     0.046993    0.024847   21.885974    0.753846   \n",
      "std            0.194877  ...     0.030459    0.040418    4.425764    0.431878   \n",
      "min            0.085000  ...     0.013640    0.000650    8.441000    0.000000   \n",
      "25%            0.148500  ...     0.024735    0.005925   19.198000    1.000000   \n",
      "50%            0.221000  ...     0.038360    0.011660   22.085000    1.000000   \n",
      "75%            0.350000  ...     0.060795    0.025640   25.075500    1.000000   \n",
      "max            1.302000  ...     0.169420    0.314820   33.047000    1.000000   \n",
      "\n",
      "             RPDE         DFA     spread1     spread2          D2         PPE  \n",
      "count  195.000000  195.000000  195.000000  195.000000  195.000000  195.000000  \n",
      "mean     0.498536    0.718099   -5.684397    0.226510    2.381826    0.206552  \n",
      "std      0.103942    0.055336    1.090208    0.083406    0.382799    0.090119  \n",
      "min      0.256570    0.574282   -7.964984    0.006274    1.423287    0.044539  \n",
      "25%      0.421306    0.674758   -6.450096    0.174351    2.099125    0.137451  \n",
      "50%      0.495954    0.722254   -5.720868    0.218885    2.361532    0.194052  \n",
      "75%      0.587562    0.761881   -5.046192    0.279234    2.636456    0.252980  \n",
      "max      0.685151    0.825288   -2.434031    0.450493    3.671155    0.527367  \n",
      "\n",
      "[8 rows x 23 columns]\n"
     ]
    }
   ],
   "source": [
    "def perform_eda(df, title):\n",
    "    print(f\"EDA for {title}\")\n",
    "    print(df.head())\n",
    "    print(df.info())\n",
    "    print(df.describe())\n",
    "    plt.show()\n",
    "\n",
    "perform_eda(parkinsons_df, \"Parkinson's Disease\")"
   ]
  },
  {
   "cell_type": "code",
   "execution_count": 105,
   "id": "a6351db7-c25f-4d1d-89fd-9391070cdd50",
   "metadata": {},
   "outputs": [
    {
     "name": "stdout",
     "output_type": "stream",
     "text": [
      "\n",
      "Dropped 'name' column.\n"
     ]
    }
   ],
   "source": [
    "if 'name' in parkinsons_df.columns:\n",
    "    parkinsons_df.drop('name', axis=1, inplace=True)\n",
    "    print(\"\\nDropped 'name' column.\")"
   ]
  },
  {
   "cell_type": "code",
   "execution_count": 107,
   "id": "0da8cfaf-c471-42c9-aa60-32cb6e23ca22",
   "metadata": {},
   "outputs": [],
   "source": [
    "def preprocess_data(df, target_column):\n",
    "    X = df.drop(columns=[target_column])\n",
    "    y = df[target_column]\n",
    "    # Handle missing values (if any)\n",
    "    X.fillna(X.mean(), inplace=True)\n",
    "    # Standardize features\n",
    "    scaler = StandardScaler()\n",
    "    X_scaled = scaler.fit_transform(X)\n",
    "    \n",
    "    return train_test_split(X_scaled, y, test_size=0.2, random_state=42)"
   ]
  },
  {
   "cell_type": "code",
   "execution_count": 109,
   "id": "e924249f-9385-47f6-bfec-737a56f45e71",
   "metadata": {},
   "outputs": [],
   "source": [
    "X_train_parkinsons, X_test_parkinsons, y_train_parkinsons, y_test_parkinsons = preprocess_data(parkinsons_df, 'status')"
   ]
  },
  {
   "cell_type": "code",
   "execution_count": 111,
   "id": "c42986f6-4e39-49f9-b3c6-e8527018860b",
   "metadata": {},
   "outputs": [],
   "source": [
    "model=RandomForestClassifier()"
   ]
  },
  {
   "cell_type": "code",
   "execution_count": 113,
   "id": "dbcd78b9-7ea4-4fde-93c6-f946d54e968d",
   "metadata": {},
   "outputs": [
    {
     "name": "stdout",
     "output_type": "stream",
     "text": [
      "Accuracy of RandomForestClassifier(): 0.9487179487179487\n",
      "[[ 5  2]\n",
      " [ 0 32]]\n",
      "              precision    recall  f1-score   support\n",
      "\n",
      "           0       1.00      0.71      0.83         7\n",
      "           1       0.94      1.00      0.97        32\n",
      "\n",
      "    accuracy                           0.95        39\n",
      "   macro avg       0.97      0.86      0.90        39\n",
      "weighted avg       0.95      0.95      0.95        39\n",
      "\n"
     ]
    }
   ],
   "source": [
    "model.fit(X_train_parkinsons, y_train_parkinsons)\n",
    "y_pred = model.predict(X_test_parkinsons)\n",
    "accuracy = accuracy_score(y_test_parkinsons, y_pred)\n",
    "print(f\"Accuracy of {model}: {accuracy}\")\n",
    "print(confusion_matrix(y_test_parkinsons, y_pred))\n",
    "print(classification_report(y_test_parkinsons, y_pred))"
   ]
  },
  {
   "cell_type": "code",
   "execution_count": 114,
   "id": "b7b4054e-050c-42b9-ad11-37253b5201af",
   "metadata": {},
   "outputs": [],
   "source": [
    "def plot_feature_importance(model, X_train, title):\n",
    "    importance = model.feature_importances_\n",
    "    features = pd.DataFrame({'Feature': X_train.columns, 'Importance': importance})\n",
    "    features = features.sort_values(by='Importance', ascending=False)\n",
    "    \n",
    "    plt.figure(figsize=(6,4))\n",
    "    sns.barplot(x='Importance', y='Feature', data=features)\n",
    "    plt.title(f\"Feature Importance for {title}\")\n",
    "    plt.show()"
   ]
  },
  {
   "cell_type": "code",
   "execution_count": 115,
   "id": "d80a2d3d-4a72-4b27-9ec5-6af31d90c3bf",
   "metadata": {},
   "outputs": [
    {
     "data": {
      "image/png": "[encoded data removed]",
      "text/plain": [
       "<Figure size 600x400 with 1 Axes>"
      ]
     },
     "metadata": {},
     "output_type": "display_data"
    }
   ],
   "source": [
    "rf_parkinsons = RandomForestClassifier()\n",
    "rf_parkinsons.fit(X_train_parkinsons, y_train_parkinsons)\n",
    "plot_feature_importance(rf_parkinsons, pd.DataFrame(X_train_parkinsons), \"Parkinson's Disease\")"
   ]
  },
  {
   "cell_type": "code",
   "execution_count": 118,
   "id": "2ca535cc-6410-4363-86a2-ae4b4a030763",
   "metadata": {},
   "outputs": [
    {
     "data": {
      "image/png": "[encoded data removed]",
      "text/plain": [
       "<Figure size 600x500 with 1 Axes>"
      ]
     },
     "metadata": {},
     "output_type": "display_data"
    }
   ],
   "source": [
    "def plot_pie_chart(df, target_column, title): \n",
    "    counts = df[target_column].value_counts() \n",
    "    plt.figure(figsize=(6, 5)) \n",
    "    colors=['grey','violet']\n",
    "    explode=(0.02,0)\n",
    "    plt.pie(counts, labels=counts.index, autopct='%1.1f%%', startangle=90,colors=colors,explode=explode) \n",
    "    plt.title(title) \n",
    "    plt.show() \n",
    "# Plotting pie charts \n",
    "plot_pie_chart(parkinsons_df, 'status', 'parkinsons Disease Dataset') "
   ]
  },
  {
   "cell_type": "code",
   "execution_count": 119,
   "id": "685c17bd-e0cc-4362-b77e-239194a7192a",
   "metadata": {},
   "outputs": [
    {
     "name": "stdout",
     "output_type": "stream",
     "text": [
      "Accuracy of RandomForestClassifier(): 0.9487179487179487\n",
      "[[ 5  2]\n",
      " [ 0 32]]\n",
      "              precision    recall  f1-score   support\n",
      "\n",
      "           0       1.00      0.71      0.83         7\n",
      "           1       0.94      1.00      0.97        32\n",
      "\n",
      "    accuracy                           0.95        39\n",
      "   macro avg       0.97      0.86      0.90        39\n",
      "weighted avg       0.95      0.95      0.95        39\n",
      "\n",
      "The person is having parkinsons disease according to RandomForestClassifier()\n"
     ]
    }
   ],
   "source": [
    "input_data_parkinsons = (0,120,66,49,175,25.8,0.587,51,76,99,45,0.649,357,76,89,679,123,23,66,45,89,0.466)\n",
    "\n",
    "# changing the input_data to numpy array\n",
    "input_data_parkinsons_as_numpy_array = np.asarray(input_data_parkinsons)\n",
    "\n",
    "# reshape the array as we are predicting for one instance\n",
    "input_data_parkinsons_reshaped = input_data_parkinsons_as_numpy_array.reshape(1,-1)\n",
    "\n",
    "model=RandomForestClassifier()\n",
    "\n",
    "model.fit(X_train_parkinsons, y_train_parkinsons)\n",
    "y_pred = model.predict(X_test_parkinsons)\n",
    "accuracy = accuracy_score(y_test_parkinsons, y_pred)\n",
    "print(f\"Accuracy of {model}: {accuracy}\")\n",
    "print(confusion_matrix(y_test_parkinsons, y_pred))\n",
    "print(classification_report(y_test_parkinsons, y_pred))\n",
    "prediction = model.predict(input_data_parkinsons_reshaped)\n",
    "if (prediction[0] == 0):\n",
    "    print(f'The person doesnot have parkinsons disease according to {model}')\n",
    "else:\n",
    "    print(f'The person is having parkinsons disease according to {model}')\n",
    "           \n",
    "# Example usage with dummy data (replace with actual data)\n",
    "X_train = np.random.rand(100, 8) \n",
    "y_train = np.random.randint(2, size=100) \n",
    "X_test = np.random.rand(20, 8) \n",
    "y_test = np.random.randint(2, size=20) \n"
   ]
  },
  {
   "cell_type": "code",
   "execution_count": 120,
   "id": "8e32b89f-4b32-4eba-b2b0-d180063a88ff",
   "metadata": {},
   "outputs": [],
   "source": [
    "import pickle"
   ]
  },
  {
   "cell_type": "code",
   "execution_count": 121,
   "id": "147da7f9-ca0f-4369-91f3-13f469239f25",
   "metadata": {},
   "outputs": [],
   "source": [
    "filename = 'parkinsons_disease_model.sav'\n",
    "pickle.dump(model, open(filename, 'wb'))"
   ]
  },
  {
   "cell_type": "code",
   "execution_count": 123,
   "id": "1cf14d7a-1994-48ea-9fb3-4c07e9fd0058",
   "metadata": {},
   "outputs": [],
   "source": [
    "# loading the saved model\n",
    "loaded_model = pickle.load(open('parkinsons_disease_model.sav', 'rb'))"
   ]
  },
  {
   "cell_type": "code",
   "execution_count": 125,
   "id": "d322c1c5-917a-4820-8b21-9fe6af59baab",
   "metadata": {},
   "outputs": [
    {
     "name": "stdout",
     "output_type": "stream",
     "text": [
      "MDVP:Fo(Hz)\n",
      "MDVP:Fhi(Hz)\n",
      "MDVP:Flo(Hz)\n",
      "MDVP:Jitter(%)\n",
      "MDVP:Jitter(Abs)\n",
      "MDVP:RAP\n",
      "MDVP:PPQ\n",
      "Jitter:DDP\n",
      "MDVP:Shimmer\n",
      "MDVP:Shimmer(dB)\n",
      "Shimmer:APQ3\n",
      "Shimmer:APQ5\n",
      "MDVP:APQ\n",
      "Shimmer:DDA\n",
      "NHR\n",
      "HNR\n",
      "status\n",
      "RPDE\n",
      "DFA\n",
      "spread1\n",
      "spread2\n",
      "D2\n",
      "PPE\n"
     ]
    }
   ],
   "source": [
    "for column in parkinsons_df.columns:\n",
    "  print(column)"
   ]
  },
  {
   "cell_type": "code",
   "execution_count": null,
   "id": "1e3db5d6-2585-480d-90f0-9a95a4e05e31",
   "metadata": {},
   "outputs": [],
   "source": []
  },
  {
   "cell_type": "code",
   "execution_count": null,
   "id": "f4c50062-18ce-48f8-b290-79d87b2ec32b",
   "metadata": {},
   "outputs": [],
   "source": []
  }
 ],
 "metadata": {
  "kernelspec": {
   "display_name": "Python [conda env:base] *",
   "language": "python",
   "name": "conda-base-py"
  },
  "language_info": {
   "codemirror_mode": {
    "name": "ipython",
    "version": 3
   },
   "file_extension": ".py",
   "mimetype": "text/x-python",
   "name": "python",
   "nbconvert_exporter": "python",
   "pygments_lexer": "ipython3",
   "version": "3.12.3"
  }
 },
 "nbformat": 4,
 "nbformat_minor": 5
}
